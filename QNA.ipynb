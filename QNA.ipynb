{
 "cells": [
  {
   "cell_type": "code",
   "execution_count": 27,
   "metadata": {},
   "outputs": [],
   "source": [
    "from langchain.embeddings.openai import OpenAIEmbeddings\n",
    "from langchain.vectorstores import FAISS\n",
    "from langchain.text_splitter import CharacterTextSplitter\n",
    "from langchain.llms import OpenAI\n",
    "from langchain.chains import ConversationalRetrievalChain\n",
    "from langchain.memory import ConversationBufferMemory\n",
    "from langchain.document_loaders import PyPDFLoader\n",
    "from langchain.document_loaders import TextLoader"
   ]
  },
  {
   "cell_type": "code",
   "execution_count": 28,
   "metadata": {},
   "outputs": [],
   "source": [
    "import os\n",
    "OPENAI_API_KEY = os.getenv(\"OPENAI_API_KEY\")"
   ]
  },
  {
   "cell_type": "code",
   "execution_count": 31,
   "metadata": {},
   "outputs": [],
   "source": [
    "def assistant(docs):\n",
    "    loader = PyPDFLoader(docs)\n",
    "    documents = loader.load()\n",
    "    text_splitter = CharacterTextSplitter(chunk_size=1000, chunk_overlap=0)\n",
    "    doc = text_splitter.split_documents(documents)\n",
    "\n",
    "    embeddings = OpenAIEmbeddings()\n",
    "    vectorstore = FAISS.from_documents(doc, embeddings)\n",
    "    memory = ConversationBufferMemory(memory_key=\"chat_history\", return_messages=True)\n",
    "    chain = ConversationalRetrievalChain.from_llm(OpenAI(temperature=0), vectorstore.as_retriever(), memory=memory)\n",
    "\n",
    "    chat_history = []\n",
    "    for i in range(0,3):\n",
    "        if i == 0:\n",
    "            question: str = str(input(\"Hi, I am AI_Cousrse_Assisstant. How may I help you?\\n\"))\n",
    "        else:\n",
    "            question: str = str(input(\"\\nPlease enter your follow-up question:\"))\n",
    "        result: object = chain({ \"question\": question,\"chat_history\": chat_history})\n",
    "      \n",
    "        answer: str = result['answer']\n",
    "        print(answer)\n",
    "        chat_history.append((question,answer))\n",
    "        \n",
    "        # source: str = result['source_documents'] \n",
    "        # sources=[]\n",
    "        # for i in range(0, len(source)):\n",
    "        #     sources.append(source[i].metadata['source'])\n",
    "\n",
    "        # print(\"\\n\\n\",answer,\"\\n\\nThe source of information are:\",sources)\n",
    "\n",
    "    print(\"\\nThank you for talking to AI_Course_Assisstant.\")\n",
    "\n",
    "    "
   ]
  },
  {
   "cell_type": "code",
   "execution_count": null,
   "metadata": {},
   "outputs": [],
   "source": []
  }
 ],
 "metadata": {
  "kernelspec": {
   "display_name": "base",
   "language": "python",
   "name": "python3"
  },
  "language_info": {
   "codemirror_mode": {
    "name": "ipython",
    "version": 3
   },
   "file_extension": ".py",
   "mimetype": "text/x-python",
   "name": "python",
   "nbconvert_exporter": "python",
   "pygments_lexer": "ipython3",
   "version": "3.9.12"
  },
  "orig_nbformat": 4
 },
 "nbformat": 4,
 "nbformat_minor": 2
}
